{
 "cells": [
  {
   "cell_type": "code",
   "execution_count": 35,
   "metadata": {},
   "outputs": [
    {
     "name": "stdout",
     "output_type": "stream",
     "text": [
      "Populating the interactive namespace from numpy and matplotlib\n"
     ]
    }
   ],
   "source": [
    "%pylab inline\n",
    "import os \n",
    "import json\n",
    "import pandas as pd\n",
    "import torch\n",
    "import sagemaker\n",
    "from tqdm import tqdm\n",
    "from datasets import load_dataset, Dataset\n",
    "from sklearn.metrics import accuracy_score, precision_recall_fscore_support, confusion_matrix\n",
    "from transformers import AutoTokenizer, AutoModel, AutoModelForSequenceClassification, TrainingArguments, Trainer, T5ForConditionalGeneration,T5Tokenizer\n",
    "from sagemaker.huggingface import HuggingFace\n",
    "\n",
    "# if running on GPU instance, enable Torch, otherwise use CPU\n",
    "device = torch.device(\"cuda:0\" if torch.cuda.is_available() else \"cpu\")\n",
    "# specify execution role\n",
    "#role = sagemaker.get_execution_role()\n",
    "# specify bucket\n",
    "bucket = 'sagemaker-eu-west-1-177767430422'"
   ]
  },
  {
   "cell_type": "markdown",
   "metadata": {},
   "source": [
    "Need to look at scale of win for clickthrough \n",
    "\n",
    "can try using classification and embeddings\n",
    "\n",
    "Should generate embeddings for each headline version and then do some clustering. Visualize the embeddings and look for patterns.\n",
    "\n",
    "Can try using GPT-2 instead of the squeezebert model "
   ]
  },
  {
   "cell_type": "code",
   "execution_count": 36,
   "metadata": {},
   "outputs": [
    {
     "data": {
      "text/html": [
       "<div>\n",
       "<style scoped>\n",
       "    .dataframe tbody tr th:only-of-type {\n",
       "        vertical-align: middle;\n",
       "    }\n",
       "\n",
       "    .dataframe tbody tr th {\n",
       "        vertical-align: top;\n",
       "    }\n",
       "\n",
       "    .dataframe thead th {\n",
       "        text-align: right;\n",
       "    }\n",
       "</style>\n",
       "<table border=\"1\" class=\"dataframe\">\n",
       "  <thead>\n",
       "    <tr style=\"text-align: right;\">\n",
       "      <th></th>\n",
       "      <th>ID</th>\n",
       "      <th>post_date</th>\n",
       "      <th>title_a</th>\n",
       "      <th>title_b</th>\n",
       "      <th>title_a_impressions</th>\n",
       "      <th>title_b_impressions</th>\n",
       "      <th>title_a_clicks</th>\n",
       "      <th>title_b_clicks</th>\n",
       "      <th>title_a_rate</th>\n",
       "      <th>title_b_rate</th>\n",
       "      <th>winner</th>\n",
       "      <th>confidence</th>\n",
       "      <th>title_rate_diff</th>\n",
       "      <th>label</th>\n",
       "    </tr>\n",
       "  </thead>\n",
       "  <tbody>\n",
       "    <tr>\n",
       "      <td>0</td>\n",
       "      <td>1774776</td>\n",
       "      <td>6/20/2021 6:01:24 PM</td>\n",
       "      <td>Porsche will build a high-performance battery ...</td>\n",
       "      <td>Porsche is building a battery factory for moto...</td>\n",
       "      <td>1060</td>\n",
       "      <td>1005</td>\n",
       "      <td>65</td>\n",
       "      <td>50</td>\n",
       "      <td>0.0613</td>\n",
       "      <td>0.0498</td>\n",
       "      <td>a</td>\n",
       "      <td>0</td>\n",
       "      <td>0.0115</td>\n",
       "      <td>0</td>\n",
       "    </tr>\n",
       "    <tr>\n",
       "      <td>1</td>\n",
       "      <td>1774704</td>\n",
       "      <td>6/21/2021 6:00:57 AM</td>\n",
       "      <td>Sony’s excellent WH-1000XM4 headphones are dow...</td>\n",
       "      <td>A couple of our favorite wireless headphones a...</td>\n",
       "      <td>788</td>\n",
       "      <td>826</td>\n",
       "      <td>82</td>\n",
       "      <td>66</td>\n",
       "      <td>0.1041</td>\n",
       "      <td>0.0799</td>\n",
       "      <td>a</td>\n",
       "      <td>95</td>\n",
       "      <td>0.0242</td>\n",
       "      <td>0</td>\n",
       "    </tr>\n",
       "    <tr>\n",
       "      <td>2</td>\n",
       "      <td>1774658</td>\n",
       "      <td>6/21/2021 4:50:03 AM</td>\n",
       "      <td>Amazon Prime Day 2021: All the deals that are ...</td>\n",
       "      <td>Amazon Prime Day 2021: A mega-roundup of all t...</td>\n",
       "      <td>677</td>\n",
       "      <td>610</td>\n",
       "      <td>81</td>\n",
       "      <td>69</td>\n",
       "      <td>0.1196</td>\n",
       "      <td>0.1131</td>\n",
       "      <td>a</td>\n",
       "      <td>0</td>\n",
       "      <td>0.0065</td>\n",
       "      <td>0</td>\n",
       "    </tr>\n",
       "    <tr>\n",
       "      <td>3</td>\n",
       "      <td>1774623</td>\n",
       "      <td>6/20/2021 5:18:52 PM</td>\n",
       "      <td>Review: &lt;em&gt;Hitman’s Wife’s Bodyguard&lt;/em&gt; amp...</td>\n",
       "      <td>&lt;em&gt;The Hitman’s Wife’s Bodyguard&lt;/em&gt; is the ...</td>\n",
       "      <td>846</td>\n",
       "      <td>830</td>\n",
       "      <td>82</td>\n",
       "      <td>139</td>\n",
       "      <td>0.0969</td>\n",
       "      <td>0.1675</td>\n",
       "      <td>b</td>\n",
       "      <td>100</td>\n",
       "      <td>0.0706</td>\n",
       "      <td>1</td>\n",
       "    </tr>\n",
       "    <tr>\n",
       "      <td>4</td>\n",
       "      <td>1774586</td>\n",
       "      <td>6/18/2021 9:43:09 AM</td>\n",
       "      <td>Pornhub hosted rape, revenge porn, and child s...</td>\n",
       "      <td>Pornhub sued for allegedly serving “under-age,...</td>\n",
       "      <td>1658</td>\n",
       "      <td>1676</td>\n",
       "      <td>177</td>\n",
       "      <td>214</td>\n",
       "      <td>0.1068</td>\n",
       "      <td>0.1277</td>\n",
       "      <td>b</td>\n",
       "      <td>97</td>\n",
       "      <td>0.0209</td>\n",
       "      <td>1</td>\n",
       "    </tr>\n",
       "  </tbody>\n",
       "</table>\n",
       "</div>"
      ],
      "text/plain": [
       "        ID             post_date  \\\n",
       "0  1774776  6/20/2021 6:01:24 PM   \n",
       "1  1774704  6/21/2021 6:00:57 AM   \n",
       "2  1774658  6/21/2021 4:50:03 AM   \n",
       "3  1774623  6/20/2021 5:18:52 PM   \n",
       "4  1774586  6/18/2021 9:43:09 AM   \n",
       "\n",
       "                                             title_a  \\\n",
       "0  Porsche will build a high-performance battery ...   \n",
       "1  Sony’s excellent WH-1000XM4 headphones are dow...   \n",
       "2  Amazon Prime Day 2021: All the deals that are ...   \n",
       "3  Review: <em>Hitman’s Wife’s Bodyguard</em> amp...   \n",
       "4  Pornhub hosted rape, revenge porn, and child s...   \n",
       "\n",
       "                                             title_b  title_a_impressions  \\\n",
       "0  Porsche is building a battery factory for moto...                 1060   \n",
       "1  A couple of our favorite wireless headphones a...                  788   \n",
       "2  Amazon Prime Day 2021: A mega-roundup of all t...                  677   \n",
       "3  <em>The Hitman’s Wife’s Bodyguard</em> is the ...                  846   \n",
       "4  Pornhub sued for allegedly serving “under-age,...                 1658   \n",
       "\n",
       "   title_b_impressions  title_a_clicks  title_b_clicks  title_a_rate  \\\n",
       "0                 1005              65              50        0.0613   \n",
       "1                  826              82              66        0.1041   \n",
       "2                  610              81              69        0.1196   \n",
       "3                  830              82             139        0.0969   \n",
       "4                 1676             177             214        0.1068   \n",
       "\n",
       "   title_b_rate winner  confidence  title_rate_diff  label  \n",
       "0        0.0498      a           0           0.0115      0  \n",
       "1        0.0799      a          95           0.0242      0  \n",
       "2        0.1131      a           0           0.0065      0  \n",
       "3        0.1675      b         100           0.0706      1  \n",
       "4        0.1277      b          97           0.0209      1  "
      ]
     },
     "execution_count": 36,
     "metadata": {},
     "output_type": "execute_result"
    }
   ],
   "source": [
    "headlines = pd.read_csv('ars-headline-tests-no-filter.csv')\n",
    "headlines['title_rate_diff'] = np.abs(headlines.title_a_rate-headlines.title_b_rate)\n",
    "label = []\n",
    "for i,row in headlines.iterrows():\n",
    "#     if row['title_rate_diff']<0.01:\n",
    "#         label.append(2)\n",
    "    if row['winner']=='a':\n",
    "        label.append(0)\n",
    "    else:\n",
    "        label.append(1)\n",
    "headlines['label'] = label\n",
    "headlines.head()"
   ]
  },
  {
   "cell_type": "code",
   "execution_count": 37,
   "metadata": {},
   "outputs": [
    {
     "data": {
      "text/plain": [
       "(array([4926.,    0.,    0.,    0.,    0.,    0.,    0.,    0.,    0.,\n",
       "        5771.]),\n",
       " array([  0.,  10.,  20.,  30.,  40.,  50.,  60.,  70.,  80.,  90., 100.]),\n",
       " <a list of 10 Patch objects>)"
      ]
     },
     "execution_count": 37,
     "metadata": {},
     "output_type": "execute_result"
    },
    {
     "data": {
      "image/png": "[encoded data removed]",
      "text/plain": [
       "<Figure size 432x288 with 1 Axes>"
      ]
     },
     "metadata": {
      "needs_background": "light"
     },
     "output_type": "display_data"
    }
   ],
   "source": [
    "# plot confidence\n",
    "plt.hist(headlines.confidence)"
   ]
  },
  {
   "cell_type": "code",
   "execution_count": 38,
   "metadata": {},
   "outputs": [],
   "source": [
    "# save headlines with rate above 0.01\n",
    "headlines[headlines.title_rate_diff>0.01].to_csv('sig_diff_headlines.csv', index=False)\n",
    "headlines.to_csv('formatted_headlines.csv', index=False)"
   ]
  },
  {
   "cell_type": "code",
   "execution_count": 32,
   "metadata": {},
   "outputs": [
    {
     "name": "stdout",
     "output_type": "stream",
     "text": [
      "max: 197.8429\n",
      "mean: 0.04461947200898713\n",
      "Number of observations above 1%: 7057\n"
     ]
    }
   ],
   "source": [
    "# get summary stats on headline title rate differential\n",
    "print('max:',np.max(headlines.title_rate_diff))\n",
    "print('mean:', np.mean(headlines.title_rate_diff))\n",
    "print('Number of observations above 1%:',sum(headlines.title_rate_diff>0.01))"
   ]
  },
  {
   "cell_type": "code",
   "execution_count": 39,
   "metadata": {},
   "outputs": [
    {
     "data": {
      "text/plain": [
       "(array([3.625e+03, 2.548e+03, 1.705e+03, 1.036e+03, 6.540e+02, 3.930e+02,\n",
       "        2.550e+02, 1.560e+02, 9.900e+01, 5.200e+01, 4.400e+01, 1.800e+01,\n",
       "        1.900e+01, 1.400e+01, 1.500e+01, 6.000e+00, 5.000e+00, 2.000e+00,\n",
       "        3.000e+00, 4.000e+00, 0.000e+00, 2.000e+00, 1.000e+00, 0.000e+00,\n",
       "        1.000e+00, 1.000e+00, 0.000e+00, 0.000e+00, 1.000e+00, 0.000e+00,\n",
       "        0.000e+00, 0.000e+00, 1.000e+00, 1.000e+00, 2.000e+00, 0.000e+00,\n",
       "        1.000e+00, 0.000e+00, 0.000e+00, 0.000e+00, 2.000e+00, 1.000e+00,\n",
       "        0.000e+00, 0.000e+00, 0.000e+00, 0.000e+00, 0.000e+00, 1.000e+00,\n",
       "        0.000e+00, 0.000e+00, 0.000e+00, 0.000e+00, 0.000e+00, 0.000e+00,\n",
       "        0.000e+00, 0.000e+00, 1.000e+00, 0.000e+00, 0.000e+00, 0.000e+00,\n",
       "        0.000e+00, 0.000e+00, 0.000e+00, 0.000e+00, 0.000e+00, 1.000e+00,\n",
       "        0.000e+00, 0.000e+00, 1.000e+00, 0.000e+00, 0.000e+00, 0.000e+00,\n",
       "        0.000e+00, 0.000e+00, 0.000e+00, 1.000e+00, 0.000e+00, 0.000e+00,\n",
       "        0.000e+00, 0.000e+00, 0.000e+00, 0.000e+00, 0.000e+00, 0.000e+00,\n",
       "        0.000e+00, 0.000e+00, 0.000e+00, 0.000e+00, 0.000e+00, 0.000e+00,\n",
       "        0.000e+00, 0.000e+00, 0.000e+00, 0.000e+00, 0.000e+00, 0.000e+00,\n",
       "        0.000e+00, 0.000e+00, 0.000e+00, 0.000e+00]),\n",
       " array([0.  , 0.01, 0.02, 0.03, 0.04, 0.05, 0.06, 0.07, 0.08, 0.09, 0.1 ,\n",
       "        0.11, 0.12, 0.13, 0.14, 0.15, 0.16, 0.17, 0.18, 0.19, 0.2 , 0.21,\n",
       "        0.22, 0.23, 0.24, 0.25, 0.26, 0.27, 0.28, 0.29, 0.3 , 0.31, 0.32,\n",
       "        0.33, 0.34, 0.35, 0.36, 0.37, 0.38, 0.39, 0.4 , 0.41, 0.42, 0.43,\n",
       "        0.44, 0.45, 0.46, 0.47, 0.48, 0.49, 0.5 , 0.51, 0.52, 0.53, 0.54,\n",
       "        0.55, 0.56, 0.57, 0.58, 0.59, 0.6 , 0.61, 0.62, 0.63, 0.64, 0.65,\n",
       "        0.66, 0.67, 0.68, 0.69, 0.7 , 0.71, 0.72, 0.73, 0.74, 0.75, 0.76,\n",
       "        0.77, 0.78, 0.79, 0.8 , 0.81, 0.82, 0.83, 0.84, 0.85, 0.86, 0.87,\n",
       "        0.88, 0.89, 0.9 , 0.91, 0.92, 0.93, 0.94, 0.95, 0.96, 0.97, 0.98,\n",
       "        0.99, 1.  ]),\n",
       " <a list of 100 Patch objects>)"
      ]
     },
     "execution_count": 39,
     "metadata": {},
     "output_type": "execute_result"
    },
    {
     "data": {
      "image/png": "[encoded data removed]",
      "text/plain": [
       "<Figure size 1008x504 with 1 Axes>"
      ]
     },
     "metadata": {
      "needs_background": "light"
     },
     "output_type": "display_data"
    }
   ],
   "source": [
    "# plot histogram of rate differential\n",
    "plt.figure(figsize=(14,7))\n",
    "plt.title('Title rate differential histogram')\n",
    "plt.hist(headlines.title_rate_diff, bins=100, range=(0,1))"
   ]
  },
  {
   "cell_type": "code",
   "execution_count": 40,
   "metadata": {},
   "outputs": [
    {
     "name": "stdout",
     "output_type": "stream",
     "text": [
      "upload: ./formatted_headlines.csv to s3://sagemaker-eu-west-1-177767430422/headlines/formatted_headlines.csv\n",
      "upload: ./sig_diff_headlines.csv to s3://sagemaker-eu-west-1-177767430422/headlines/sig_diff_headlines.csv\n"
     ]
    }
   ],
   "source": [
    "# send data to s3\n",
    "!aws s3 cp formatted_headlines.csv s3://{bucket}/headlines/formatted_headlines.csv\n",
    "!aws s3 cp sig_diff_headlines.csv s3://{bucket}/headlines/sig_diff_headlines.csv"
   ]
  },
  {
   "cell_type": "markdown",
   "metadata": {},
   "source": [
    "## Paraphrase model \n",
    "Can use this as a base for how to setup our task."
   ]
  },
  {
   "cell_type": "code",
   "execution_count": 41,
   "metadata": {},
   "outputs": [
    {
     "name": "stdout",
     "output_type": "stream",
     "text": [
      "Should be paraphrase\n",
      "not paraphrase: 10%\n",
      "is paraphrase: 90%\n",
      "\n",
      "Should not be paraphrase\n",
      "not paraphrase: 94%\n",
      "is paraphrase: 6%\n"
     ]
    }
   ],
   "source": [
    "tokenizer = AutoTokenizer.from_pretrained(\"bert-base-cased-finetuned-mrpc\")\n",
    "model = AutoModelForSequenceClassification.from_pretrained(\"bert-base-cased-finetuned-mrpc\")\n",
    "\n",
    "classes = [\"not paraphrase\", \"is paraphrase\"]\n",
    "\n",
    "sequence_0 = \"The company HuggingFace is based in New York City\"\n",
    "sequence_1 = \"Apples are especially bad for your health\"\n",
    "sequence_2 = \"HuggingFace's headquarters are situated in Manhattan\"\n",
    "\n",
    "paraphrase = tokenizer.encode_plus(sequence_0, sequence_2, return_tensors=\"pt\")\n",
    "not_paraphrase = tokenizer.encode_plus(sequence_0, sequence_1, return_tensors=\"pt\")\n",
    "\n",
    "paraphrase_classification_logits = model(**paraphrase)[0]\n",
    "not_paraphrase_classification_logits = model(**not_paraphrase)[0]\n",
    "\n",
    "paraphrase_results = torch.softmax(paraphrase_classification_logits, dim=1).tolist()[0]\n",
    "not_paraphrase_results = torch.softmax(not_paraphrase_classification_logits, dim=1).tolist()[0]\n",
    "\n",
    "print(\"Should be paraphrase\")\n",
    "for i in range(len(classes)):\n",
    "    print(f\"{classes[i]}: {round(paraphrase_results[i] * 100)}%\")\n",
    "\n",
    "print(\"\\nShould not be paraphrase\")\n",
    "for i in range(len(classes)):\n",
    "    print(f\"{classes[i]}: {round(not_paraphrase_results[i] * 100)}%\")"
   ]
  },
  {
   "cell_type": "markdown",
   "metadata": {},
   "source": [
    "## Load model locally\n",
    "\n",
    "We can try several models to finetune, the squeezebert model works relatively well, more powerful models like GPT-2 will likely work even better. We are focusing on models pretrained on large amounts of news text."
   ]
  },
  {
   "cell_type": "code",
   "execution_count": 42,
   "metadata": {
    "scrolled": true
   },
   "outputs": [
    {
     "data": {
      "application/vnd.jupyter.widget-view+json": {
       "model_id": "d0555f4081674880a84185f368601792",
       "version_major": 2,
       "version_minor": 0
      },
      "text/plain": [
       "HBox(children=(IntProgress(value=0, description='Downloading', max=500, style=ProgressStyle(description_width=…"
      ]
     },
     "metadata": {},
     "output_type": "display_data"
    },
    {
     "name": "stdout",
     "output_type": "stream",
     "text": [
      "\n"
     ]
    },
    {
     "data": {
      "application/vnd.jupyter.widget-view+json": {
       "model_id": "6a867da0249c461c8ad9fe11d67c800f",
       "version_major": 2,
       "version_minor": 0
      },
      "text/plain": [
       "HBox(children=(IntProgress(value=0, description='Downloading', max=231580, style=ProgressStyle(description_wid…"
      ]
     },
     "metadata": {},
     "output_type": "display_data"
    },
    {
     "name": "stdout",
     "output_type": "stream",
     "text": [
      "\n"
     ]
    },
    {
     "data": {
      "application/vnd.jupyter.widget-view+json": {
       "model_id": "4a3c1a5566a6476a8fea012ee33d93e5",
       "version_major": 2,
       "version_minor": 0
      },
      "text/plain": [
       "HBox(children=(IntProgress(value=0, description='Downloading', max=466182, style=ProgressStyle(description_wid…"
      ]
     },
     "metadata": {},
     "output_type": "display_data"
    },
    {
     "name": "stdout",
     "output_type": "stream",
     "text": [
      "\n"
     ]
    },
    {
     "data": {
      "application/vnd.jupyter.widget-view+json": {
       "model_id": "db90755bb27f4e4e9bded4269682f12a",
       "version_major": 2,
       "version_minor": 0
      },
      "text/plain": [
       "HBox(children=(IntProgress(value=0, description='Downloading', max=202049872, style=ProgressStyle(description_…"
      ]
     },
     "metadata": {},
     "output_type": "display_data"
    },
    {
     "name": "stdout",
     "output_type": "stream",
     "text": [
      "\n"
     ]
    },
    {
     "name": "stderr",
     "output_type": "stream",
     "text": [
      "Some weights of SqueezeBertForSequenceClassification were not initialized from the model checkpoint at squeezebert/squeezebert-mnli-headless and are newly initialized: ['transformer.pooler.dense.weight', 'classifier.weight', 'classifier.bias', 'transformer.pooler.dense.bias']\n",
      "You should probably TRAIN this model on a down-stream task to be able to use it for predictions and inference.\n"
     ]
    },
    {
     "data": {
      "text/plain": [
       "SqueezeBertForSequenceClassification(\n",
       "  (transformer): SqueezeBertModel(\n",
       "    (embeddings): SqueezeBertEmbeddings(\n",
       "      (word_embeddings): Embedding(30528, 768, padding_idx=0)\n",
       "      (position_embeddings): Embedding(512, 768)\n",
       "      (token_type_embeddings): Embedding(2, 768)\n",
       "      (LayerNorm): LayerNorm((768,), eps=1e-12, elementwise_affine=True)\n",
       "      (dropout): Dropout(p=0.1, inplace=False)\n",
       "    )\n",
       "    (encoder): SqueezeBertEncoder(\n",
       "      (layers): ModuleList(\n",
       "        (0): SqueezeBertModule(\n",
       "          (attention): SqueezeBertSelfAttention(\n",
       "            (query): Conv1d(768, 768, kernel_size=(1,), stride=(1,), groups=4)\n",
       "            (key): Conv1d(768, 768, kernel_size=(1,), stride=(1,), groups=4)\n",
       "            (value): Conv1d(768, 768, kernel_size=(1,), stride=(1,), groups=4)\n",
       "            (dropout): Dropout(p=0.1, inplace=False)\n",
       "            (softmax): Softmax(dim=-1)\n",
       "            (matmul_qk): MatMulWrapper()\n",
       "            (matmul_qkv): MatMulWrapper()\n",
       "          )\n",
       "          (post_attention): ConvDropoutLayerNorm(\n",
       "            (conv1d): Conv1d(768, 768, kernel_size=(1,), stride=(1,))\n",
       "            (layernorm): SqueezeBertLayerNorm((768,), eps=1e-12, elementwise_affine=True)\n",
       "            (dropout): Dropout(p=0.1, inplace=False)\n",
       "          )\n",
       "          (intermediate): ConvActivation(\n",
       "            (conv1d): Conv1d(768, 3072, kernel_size=(1,), stride=(1,), groups=4)\n",
       "          )\n",
       "          (output): ConvDropoutLayerNorm(\n",
       "            (conv1d): Conv1d(3072, 768, kernel_size=(1,), stride=(1,), groups=4)\n",
       "            (layernorm): SqueezeBertLayerNorm((768,), eps=1e-12, elementwise_affine=True)\n",
       "            (dropout): Dropout(p=0.1, inplace=False)\n",
       "          )\n",
       "        )\n",
       "        (1): SqueezeBertModule(\n",
       "          (attention): SqueezeBertSelfAttention(\n",
       "            (query): Conv1d(768, 768, kernel_size=(1,), stride=(1,), groups=4)\n",
       "            (key): Conv1d(768, 768, kernel_size=(1,), stride=(1,), groups=4)\n",
       "            (value): Conv1d(768, 768, kernel_size=(1,), stride=(1,), groups=4)\n",
       "            (dropout): Dropout(p=0.1, inplace=False)\n",
       "            (softmax): Softmax(dim=-1)\n",
       "            (matmul_qk): MatMulWrapper()\n",
       "            (matmul_qkv): MatMulWrapper()\n",
       "          )\n",
       "          (post_attention): ConvDropoutLayerNorm(\n",
       "            (conv1d): Conv1d(768, 768, kernel_size=(1,), stride=(1,))\n",
       "            (layernorm): SqueezeBertLayerNorm((768,), eps=1e-12, elementwise_affine=True)\n",
       "            (dropout): Dropout(p=0.1, inplace=False)\n",
       "          )\n",
       "          (intermediate): ConvActivation(\n",
       "            (conv1d): Conv1d(768, 3072, kernel_size=(1,), stride=(1,), groups=4)\n",
       "          )\n",
       "          (output): ConvDropoutLayerNorm(\n",
       "            (conv1d): Conv1d(3072, 768, kernel_size=(1,), stride=(1,), groups=4)\n",
       "            (layernorm): SqueezeBertLayerNorm((768,), eps=1e-12, elementwise_affine=True)\n",
       "            (dropout): Dropout(p=0.1, inplace=False)\n",
       "          )\n",
       "        )\n",
       "        (2): SqueezeBertModule(\n",
       "          (attention): SqueezeBertSelfAttention(\n",
       "            (query): Conv1d(768, 768, kernel_size=(1,), stride=(1,), groups=4)\n",
       "            (key): Conv1d(768, 768, kernel_size=(1,), stride=(1,), groups=4)\n",
       "            (value): Conv1d(768, 768, kernel_size=(1,), stride=(1,), groups=4)\n",
       "            (dropout): Dropout(p=0.1, inplace=False)\n",
       "            (softmax): Softmax(dim=-1)\n",
       "            (matmul_qk): MatMulWrapper()\n",
       "            (matmul_qkv): MatMulWrapper()\n",
       "          )\n",
       "          (post_attention): ConvDropoutLayerNorm(\n",
       "            (conv1d): Conv1d(768, 768, kernel_size=(1,), stride=(1,))\n",
       "            (layernorm): SqueezeBertLayerNorm((768,), eps=1e-12, elementwise_affine=True)\n",
       "            (dropout): Dropout(p=0.1, inplace=False)\n",
       "          )\n",
       "          (intermediate): ConvActivation(\n",
       "            (conv1d): Conv1d(768, 3072, kernel_size=(1,), stride=(1,), groups=4)\n",
       "          )\n",
       "          (output): ConvDropoutLayerNorm(\n",
       "            (conv1d): Conv1d(3072, 768, kernel_size=(1,), stride=(1,), groups=4)\n",
       "            (layernorm): SqueezeBertLayerNorm((768,), eps=1e-12, elementwise_affine=True)\n",
       "            (dropout): Dropout(p=0.1, inplace=False)\n",
       "          )\n",
       "        )\n",
       "        (3): SqueezeBertModule(\n",
       "          (attention): SqueezeBertSelfAttention(\n",
       "            (query): Conv1d(768, 768, kernel_size=(1,), stride=(1,), groups=4)\n",
       "            (key): Conv1d(768, 768, kernel_size=(1,), stride=(1,), groups=4)\n",
       "            (value): Conv1d(768, 768, kernel_size=(1,), stride=(1,), groups=4)\n",
       "            (dropout): Dropout(p=0.1, inplace=False)\n",
       "            (softmax): Softmax(dim=-1)\n",
       "            (matmul_qk): MatMulWrapper()\n",
       "            (matmul_qkv): MatMulWrapper()\n",
       "          )\n",
       "          (post_attention): ConvDropoutLayerNorm(\n",
       "            (conv1d): Conv1d(768, 768, kernel_size=(1,), stride=(1,))\n",
       "            (layernorm): SqueezeBertLayerNorm((768,), eps=1e-12, elementwise_affine=True)\n",
       "            (dropout): Dropout(p=0.1, inplace=False)\n",
       "          )\n",
       "          (intermediate): ConvActivation(\n",
       "            (conv1d): Conv1d(768, 3072, kernel_size=(1,), stride=(1,), groups=4)\n",
       "          )\n",
       "          (output): ConvDropoutLayerNorm(\n",
       "            (conv1d): Conv1d(3072, 768, kernel_size=(1,), stride=(1,), groups=4)\n",
       "            (layernorm): SqueezeBertLayerNorm((768,), eps=1e-12, elementwise_affine=True)\n",
       "            (dropout): Dropout(p=0.1, inplace=False)\n",
       "          )\n",
       "        )\n",
       "        (4): SqueezeBertModule(\n",
       "          (attention): SqueezeBertSelfAttention(\n",
       "            (query): Conv1d(768, 768, kernel_size=(1,), stride=(1,), groups=4)\n",
       "            (key): Conv1d(768, 768, kernel_size=(1,), stride=(1,), groups=4)\n",
       "            (value): Conv1d(768, 768, kernel_size=(1,), stride=(1,), groups=4)\n",
       "            (dropout): Dropout(p=0.1, inplace=False)\n",
       "            (softmax): Softmax(dim=-1)\n",
       "            (matmul_qk): MatMulWrapper()\n",
       "            (matmul_qkv): MatMulWrapper()\n",
       "          )\n",
       "          (post_attention): ConvDropoutLayerNorm(\n",
       "            (conv1d): Conv1d(768, 768, kernel_size=(1,), stride=(1,))\n",
       "            (layernorm): SqueezeBertLayerNorm((768,), eps=1e-12, elementwise_affine=True)\n",
       "            (dropout): Dropout(p=0.1, inplace=False)\n",
       "          )\n",
       "          (intermediate): ConvActivation(\n",
       "            (conv1d): Conv1d(768, 3072, kernel_size=(1,), stride=(1,), groups=4)\n",
       "          )\n",
       "          (output): ConvDropoutLayerNorm(\n",
       "            (conv1d): Conv1d(3072, 768, kernel_size=(1,), stride=(1,), groups=4)\n",
       "            (layernorm): SqueezeBertLayerNorm((768,), eps=1e-12, elementwise_affine=True)\n",
       "            (dropout): Dropout(p=0.1, inplace=False)\n",
       "          )\n",
       "        )\n",
       "        (5): SqueezeBertModule(\n",
       "          (attention): SqueezeBertSelfAttention(\n",
       "            (query): Conv1d(768, 768, kernel_size=(1,), stride=(1,), groups=4)\n",
       "            (key): Conv1d(768, 768, kernel_size=(1,), stride=(1,), groups=4)\n",
       "            (value): Conv1d(768, 768, kernel_size=(1,), stride=(1,), groups=4)\n",
       "            (dropout): Dropout(p=0.1, inplace=False)\n",
       "            (softmax): Softmax(dim=-1)\n",
       "            (matmul_qk): MatMulWrapper()\n",
       "            (matmul_qkv): MatMulWrapper()\n",
       "          )\n",
       "          (post_attention): ConvDropoutLayerNorm(\n",
       "            (conv1d): Conv1d(768, 768, kernel_size=(1,), stride=(1,))\n",
       "            (layernorm): SqueezeBertLayerNorm((768,), eps=1e-12, elementwise_affine=True)\n",
       "            (dropout): Dropout(p=0.1, inplace=False)\n",
       "          )\n",
       "          (intermediate): ConvActivation(\n",
       "            (conv1d): Conv1d(768, 3072, kernel_size=(1,), stride=(1,), groups=4)\n",
       "          )\n",
       "          (output): ConvDropoutLayerNorm(\n",
       "            (conv1d): Conv1d(3072, 768, kernel_size=(1,), stride=(1,), groups=4)\n",
       "            (layernorm): SqueezeBertLayerNorm((768,), eps=1e-12, elementwise_affine=True)\n",
       "            (dropout): Dropout(p=0.1, inplace=False)\n",
       "          )\n",
       "        )\n",
       "        (6): SqueezeBertModule(\n",
       "          (attention): SqueezeBertSelfAttention(\n",
       "            (query): Conv1d(768, 768, kernel_size=(1,), stride=(1,), groups=4)\n",
       "            (key): Conv1d(768, 768, kernel_size=(1,), stride=(1,), groups=4)\n",
       "            (value): Conv1d(768, 768, kernel_size=(1,), stride=(1,), groups=4)\n",
       "            (dropout): Dropout(p=0.1, inplace=False)\n",
       "            (softmax): Softmax(dim=-1)\n",
       "            (matmul_qk): MatMulWrapper()\n",
       "            (matmul_qkv): MatMulWrapper()\n",
       "          )\n",
       "          (post_attention): ConvDropoutLayerNorm(\n",
       "            (conv1d): Conv1d(768, 768, kernel_size=(1,), stride=(1,))\n",
       "            (layernorm): SqueezeBertLayerNorm((768,), eps=1e-12, elementwise_affine=True)\n",
       "            (dropout): Dropout(p=0.1, inplace=False)\n",
       "          )\n",
       "          (intermediate): ConvActivation(\n",
       "            (conv1d): Conv1d(768, 3072, kernel_size=(1,), stride=(1,), groups=4)\n",
       "          )\n",
       "          (output): ConvDropoutLayerNorm(\n",
       "            (conv1d): Conv1d(3072, 768, kernel_size=(1,), stride=(1,), groups=4)\n",
       "            (layernorm): SqueezeBertLayerNorm((768,), eps=1e-12, elementwise_affine=True)\n",
       "            (dropout): Dropout(p=0.1, inplace=False)\n",
       "          )\n",
       "        )\n",
       "        (7): SqueezeBertModule(\n",
       "          (attention): SqueezeBertSelfAttention(\n",
       "            (query): Conv1d(768, 768, kernel_size=(1,), stride=(1,), groups=4)\n",
       "            (key): Conv1d(768, 768, kernel_size=(1,), stride=(1,), groups=4)\n",
       "            (value): Conv1d(768, 768, kernel_size=(1,), stride=(1,), groups=4)\n",
       "            (dropout): Dropout(p=0.1, inplace=False)\n",
       "            (softmax): Softmax(dim=-1)\n",
       "            (matmul_qk): MatMulWrapper()\n",
       "            (matmul_qkv): MatMulWrapper()\n",
       "          )\n",
       "          (post_attention): ConvDropoutLayerNorm(\n",
       "            (conv1d): Conv1d(768, 768, kernel_size=(1,), stride=(1,))\n",
       "            (layernorm): SqueezeBertLayerNorm((768,), eps=1e-12, elementwise_affine=True)\n",
       "            (dropout): Dropout(p=0.1, inplace=False)\n",
       "          )\n",
       "          (intermediate): ConvActivation(\n",
       "            (conv1d): Conv1d(768, 3072, kernel_size=(1,), stride=(1,), groups=4)\n",
       "          )\n",
       "          (output): ConvDropoutLayerNorm(\n",
       "            (conv1d): Conv1d(3072, 768, kernel_size=(1,), stride=(1,), groups=4)\n",
       "            (layernorm): SqueezeBertLayerNorm((768,), eps=1e-12, elementwise_affine=True)\n",
       "            (dropout): Dropout(p=0.1, inplace=False)\n",
       "          )\n",
       "        )\n",
       "        (8): SqueezeBertModule(\n",
       "          (attention): SqueezeBertSelfAttention(\n",
       "            (query): Conv1d(768, 768, kernel_size=(1,), stride=(1,), groups=4)\n",
       "            (key): Conv1d(768, 768, kernel_size=(1,), stride=(1,), groups=4)\n",
       "            (value): Conv1d(768, 768, kernel_size=(1,), stride=(1,), groups=4)\n",
       "            (dropout): Dropout(p=0.1, inplace=False)\n",
       "            (softmax): Softmax(dim=-1)\n",
       "            (matmul_qk): MatMulWrapper()\n",
       "            (matmul_qkv): MatMulWrapper()\n",
       "          )\n",
       "          (post_attention): ConvDropoutLayerNorm(\n",
       "            (conv1d): Conv1d(768, 768, kernel_size=(1,), stride=(1,))\n",
       "            (layernorm): SqueezeBertLayerNorm((768,), eps=1e-12, elementwise_affine=True)\n",
       "            (dropout): Dropout(p=0.1, inplace=False)\n",
       "          )\n",
       "          (intermediate): ConvActivation(\n",
       "            (conv1d): Conv1d(768, 3072, kernel_size=(1,), stride=(1,), groups=4)\n",
       "          )\n",
       "          (output): ConvDropoutLayerNorm(\n",
       "            (conv1d): Conv1d(3072, 768, kernel_size=(1,), stride=(1,), groups=4)\n",
       "            (layernorm): SqueezeBertLayerNorm((768,), eps=1e-12, elementwise_affine=True)\n",
       "            (dropout): Dropout(p=0.1, inplace=False)\n",
       "          )\n",
       "        )\n",
       "        (9): SqueezeBertModule(\n",
       "          (attention): SqueezeBertSelfAttention(\n",
       "            (query): Conv1d(768, 768, kernel_size=(1,), stride=(1,), groups=4)\n",
       "            (key): Conv1d(768, 768, kernel_size=(1,), stride=(1,), groups=4)\n",
       "            (value): Conv1d(768, 768, kernel_size=(1,), stride=(1,), groups=4)\n",
       "            (dropout): Dropout(p=0.1, inplace=False)\n",
       "            (softmax): Softmax(dim=-1)\n",
       "            (matmul_qk): MatMulWrapper()\n",
       "            (matmul_qkv): MatMulWrapper()\n",
       "          )\n",
       "          (post_attention): ConvDropoutLayerNorm(\n",
       "            (conv1d): Conv1d(768, 768, kernel_size=(1,), stride=(1,))\n",
       "            (layernorm): SqueezeBertLayerNorm((768,), eps=1e-12, elementwise_affine=True)\n",
       "            (dropout): Dropout(p=0.1, inplace=False)\n",
       "          )\n",
       "          (intermediate): ConvActivation(\n",
       "            (conv1d): Conv1d(768, 3072, kernel_size=(1,), stride=(1,), groups=4)\n",
       "          )\n",
       "          (output): ConvDropoutLayerNorm(\n",
       "            (conv1d): Conv1d(3072, 768, kernel_size=(1,), stride=(1,), groups=4)\n",
       "            (layernorm): SqueezeBertLayerNorm((768,), eps=1e-12, elementwise_affine=True)\n",
       "            (dropout): Dropout(p=0.1, inplace=False)\n",
       "          )\n",
       "        )\n",
       "        (10): SqueezeBertModule(\n",
       "          (attention): SqueezeBertSelfAttention(\n",
       "            (query): Conv1d(768, 768, kernel_size=(1,), stride=(1,), groups=4)\n",
       "            (key): Conv1d(768, 768, kernel_size=(1,), stride=(1,), groups=4)\n",
       "            (value): Conv1d(768, 768, kernel_size=(1,), stride=(1,), groups=4)\n",
       "            (dropout): Dropout(p=0.1, inplace=False)\n",
       "            (softmax): Softmax(dim=-1)\n",
       "            (matmul_qk): MatMulWrapper()\n",
       "            (matmul_qkv): MatMulWrapper()\n",
       "          )\n",
       "          (post_attention): ConvDropoutLayerNorm(\n",
       "            (conv1d): Conv1d(768, 768, kernel_size=(1,), stride=(1,))\n",
       "            (layernorm): SqueezeBertLayerNorm((768,), eps=1e-12, elementwise_affine=True)\n",
       "            (dropout): Dropout(p=0.1, inplace=False)\n",
       "          )\n",
       "          (intermediate): ConvActivation(\n",
       "            (conv1d): Conv1d(768, 3072, kernel_size=(1,), stride=(1,), groups=4)\n",
       "          )\n",
       "          (output): ConvDropoutLayerNorm(\n",
       "            (conv1d): Conv1d(3072, 768, kernel_size=(1,), stride=(1,), groups=4)\n",
       "            (layernorm): SqueezeBertLayerNorm((768,), eps=1e-12, elementwise_affine=True)\n",
       "            (dropout): Dropout(p=0.1, inplace=False)\n",
       "          )\n",
       "        )\n",
       "        (11): SqueezeBertModule(\n",
       "          (attention): SqueezeBertSelfAttention(\n",
       "            (query): Conv1d(768, 768, kernel_size=(1,), stride=(1,), groups=4)\n",
       "            (key): Conv1d(768, 768, kernel_size=(1,), stride=(1,), groups=4)\n",
       "            (value): Conv1d(768, 768, kernel_size=(1,), stride=(1,), groups=4)\n",
       "            (dropout): Dropout(p=0.1, inplace=False)\n",
       "            (softmax): Softmax(dim=-1)\n",
       "            (matmul_qk): MatMulWrapper()\n",
       "            (matmul_qkv): MatMulWrapper()\n",
       "          )\n",
       "          (post_attention): ConvDropoutLayerNorm(\n",
       "            (conv1d): Conv1d(768, 768, kernel_size=(1,), stride=(1,))\n",
       "            (layernorm): SqueezeBertLayerNorm((768,), eps=1e-12, elementwise_affine=True)\n",
       "            (dropout): Dropout(p=0.1, inplace=False)\n",
       "          )\n",
       "          (intermediate): ConvActivation(\n",
       "            (conv1d): Conv1d(768, 3072, kernel_size=(1,), stride=(1,), groups=4)\n",
       "          )\n",
       "          (output): ConvDropoutLayerNorm(\n",
       "            (conv1d): Conv1d(3072, 768, kernel_size=(1,), stride=(1,), groups=4)\n",
       "            (layernorm): SqueezeBertLayerNorm((768,), eps=1e-12, elementwise_affine=True)\n",
       "            (dropout): Dropout(p=0.1, inplace=False)\n",
       "          )\n",
       "        )\n",
       "      )\n",
       "    )\n",
       "    (pooler): SqueezeBertPooler(\n",
       "      (dense): Linear(in_features=768, out_features=768, bias=True)\n",
       "      (activation): Tanh()\n",
       "    )\n",
       "  )\n",
       "  (dropout): Dropout(p=0.1, inplace=False)\n",
       "  (classifier): Linear(in_features=768, out_features=2, bias=True)\n",
       ")"
      ]
     },
     "execution_count": 42,
     "metadata": {},
     "output_type": "execute_result"
    }
   ],
   "source": [
    "# load model\n",
    "model_checkpoint = 'squeezebert/squeezebert-mnli-headless'\n",
    "# \"Michau/t5-base-en-generate-headline\"\n",
    "# QianWeiTech/GPT2-News\n",
    "# squeezebert/squeezebert-mnli-headless\n",
    "# in order to use any of these models we need to have a tokenizer.\n",
    "tokenizer = AutoTokenizer.from_pretrained(model_checkpoint, use_fast=True)\n",
    "\n",
    "# number of output labels\n",
    "num_labels = 2\n",
    "# while the original model was trained in a \"masked language model\" format, we can finetune it for a different task, in this case sequence classification\n",
    "model = AutoModelForSequenceClassification.from_pretrained(model_checkpoint, num_labels=num_labels)\n",
    "# send model to GPU\n",
    "model.to(device)"
   ]
  },
  {
   "cell_type": "markdown",
   "metadata": {},
   "source": [
    "## Format our data\n",
    "\n",
    "To use HF for training we need to put our data into their format. Here we are loading our CSV file and then we will tokenize the inputs so the model can training on it."
   ]
  },
  {
   "cell_type": "code",
   "execution_count": 43,
   "metadata": {},
   "outputs": [
    {
     "name": "stderr",
     "output_type": "stream",
     "text": [
      "Using custom data configuration default-af6c617adf595a0f\n"
     ]
    },
    {
     "name": "stdout",
     "output_type": "stream",
     "text": [
      "Downloading and preparing dataset csv/default (download: Unknown size, generated: Unknown size, post-processed: Unknown size, total: Unknown size) to /home/sean/.cache/huggingface/datasets/csv/default-af6c617adf595a0f/0.0.0/e138af468cb14e747fb46a19c787ffcfa5170c821476d20d5304287ce12bbc23...\n"
     ]
    },
    {
     "data": {
      "application/vnd.jupyter.widget-view+json": {
       "model_id": "a8739fa60baf4ea8bb2f90a75a03ef6c",
       "version_major": 2,
       "version_minor": 0
      },
      "text/plain": [
       "HBox(children=(IntProgress(value=1, bar_style='info', max=1), HTML(value='')))"
      ]
     },
     "metadata": {},
     "output_type": "display_data"
    },
    {
     "name": "stdout",
     "output_type": "stream",
     "text": [
      "Dataset csv downloaded and prepared to /home/sean/.cache/huggingface/datasets/csv/default-af6c617adf595a0f/0.0.0/e138af468cb14e747fb46a19c787ffcfa5170c821476d20d5304287ce12bbc23. Subsequent calls will reuse this data.\n"
     ]
    },
    {
     "data": {
      "text/plain": [
       "DatasetDict({\n",
       "    train: Dataset({\n",
       "        features: ['ID', 'post_date', 'title_a', 'title_b', 'title_a_impressions', 'title_b_impressions', 'title_a_clicks', 'title_b_clicks', 'title_a_rate', 'title_b_rate', 'winner', 'confidence', 'title_rate_diff', 'label'],\n",
       "        num_rows: 10697\n",
       "    })\n",
       "})"
      ]
     },
     "execution_count": 43,
     "metadata": {},
     "output_type": "execute_result"
    }
   ],
   "source": [
    "# load labels as HF dataset\n",
    "dataset = load_dataset('csv', data_files='formatted_headlines.csv') # 'ars-headline-tests-no-filter.csv')\n",
    "# eval_dataset = load_dataset('csv', data_files='eval_frame.csv')\n",
    "dataset"
   ]
  },
  {
   "cell_type": "code",
   "execution_count": 12,
   "metadata": {},
   "outputs": [],
   "source": [
    "# if using GPT2 need to add PAD token\n",
    "# tokenizer.add_special_tokens({'pad_token': '[PAD]'})\n",
    "# tokenizer(text=dataset['train']['title_a'][0],text_pair = dataset['train']['title_b'][0], truncation=True, max_length=512, padding='max_length')\n"
   ]
  },
  {
   "cell_type": "code",
   "execution_count": 44,
   "metadata": {
    "scrolled": true
   },
   "outputs": [
    {
     "name": "stdout",
     "output_type": "stream",
     "text": [
      "Porsche will build a high-performance battery factory in Germany \n",
      " Porsche is building a battery factory for motorsport and performance EVs \n",
      "\n",
      "{'input_ids': [101, 16099, 2097, 3857, 1037, 2152, 1011, 2836, 6046, 4713, 1999, 2762, 102, 16099, 2003, 2311, 1037, 6046, 4713, 2005, 21044, 1998, 2836, 23408, 2015, 102, 0, 0, 0, 0, 0, 0, 0, 0, 0, 0, 0, 0, 0, 0, 0, 0, 0, 0, 0, 0, 0, 0, 0, 0, 0, 0, 0, 0, 0, 0, 0, 0, 0, 0, 0, 0, 0, 0, 0, 0, 0, 0, 0, 0, 0, 0, 0, 0, 0, 0, 0, 0, 0, 0, 0, 0, 0, 0, 0, 0, 0, 0, 0, 0, 0, 0, 0, 0, 0, 0, 0, 0, 0, 0, 0, 0, 0, 0, 0, 0, 0, 0, 0, 0, 0, 0, 0, 0, 0, 0, 0, 0, 0, 0, 0, 0, 0, 0, 0, 0, 0, 0, 0, 0, 0, 0, 0, 0, 0, 0, 0, 0, 0, 0, 0, 0, 0, 0, 0, 0, 0, 0, 0, 0, 0, 0, 0, 0, 0, 0, 0, 0, 0, 0, 0, 0, 0, 0, 0, 0, 0, 0, 0, 0, 0, 0, 0, 0, 0, 0, 0, 0, 0, 0, 0, 0, 0, 0, 0, 0, 0, 0, 0, 0, 0, 0, 0, 0, 0, 0, 0, 0, 0, 0, 0, 0, 0, 0, 0, 0, 0, 0, 0, 0, 0, 0, 0, 0, 0, 0, 0, 0, 0, 0, 0, 0, 0, 0, 0, 0, 0, 0, 0, 0, 0, 0, 0, 0, 0, 0, 0, 0, 0, 0, 0, 0, 0, 0, 0, 0, 0, 0, 0, 0, 0, 0, 0, 0, 0, 0, 0, 0, 0, 0, 0, 0, 0, 0, 0, 0, 0, 0, 0, 0, 0, 0, 0, 0, 0, 0, 0, 0, 0, 0, 0, 0, 0, 0, 0, 0, 0, 0, 0, 0, 0, 0, 0, 0, 0, 0, 0, 0, 0, 0, 0, 0, 0, 0, 0, 0, 0, 0, 0, 0, 0, 0, 0, 0, 0, 0, 0, 0, 0, 0, 0, 0, 0, 0, 0, 0, 0, 0, 0, 0, 0, 0, 0, 0, 0, 0, 0, 0, 0, 0, 0, 0, 0, 0, 0, 0, 0, 0, 0, 0, 0, 0, 0, 0, 0, 0, 0, 0, 0, 0, 0, 0, 0, 0, 0, 0, 0, 0, 0, 0, 0, 0, 0, 0, 0, 0, 0, 0, 0, 0, 0, 0, 0, 0, 0, 0, 0, 0, 0, 0, 0, 0, 0, 0, 0, 0, 0, 0, 0, 0, 0, 0, 0, 0, 0, 0, 0, 0, 0, 0, 0, 0, 0, 0, 0, 0, 0, 0, 0, 0, 0, 0, 0, 0, 0, 0, 0, 0, 0, 0, 0, 0, 0, 0, 0, 0, 0, 0, 0, 0, 0, 0, 0, 0, 0, 0, 0, 0, 0, 0, 0, 0, 0, 0, 0, 0, 0, 0, 0, 0, 0, 0, 0, 0, 0, 0, 0, 0, 0, 0, 0, 0, 0, 0, 0, 0, 0, 0, 0, 0, 0, 0, 0, 0, 0, 0, 0, 0, 0, 0, 0, 0, 0, 0, 0, 0, 0, 0, 0, 0, 0, 0, 0, 0, 0, 0, 0, 0, 0, 0, 0, 0], 'token_type_ids': [0, 0, 0, 0, 0, 0, 0, 0, 0, 0, 0, 0, 0, 1, 1, 1, 1, 1, 1, 1, 1, 1, 1, 1, 1, 1, 0, 0, 0, 0, 0, 0, 0, 0, 0, 0, 0, 0, 0, 0, 0, 0, 0, 0, 0, 0, 0, 0, 0, 0, 0, 0, 0, 0, 0, 0, 0, 0, 0, 0, 0, 0, 0, 0, 0, 0, 0, 0, 0, 0, 0, 0, 0, 0, 0, 0, 0, 0, 0, 0, 0, 0, 0, 0, 0, 0, 0, 0, 0, 0, 0, 0, 0, 0, 0, 0, 0, 0, 0, 0, 0, 0, 0, 0, 0, 0, 0, 0, 0, 0, 0, 0, 0, 0, 0, 0, 0, 0, 0, 0, 0, 0, 0, 0, 0, 0, 0, 0, 0, 0, 0, 0, 0, 0, 0, 0, 0, 0, 0, 0, 0, 0, 0, 0, 0, 0, 0, 0, 0, 0, 0, 0, 0, 0, 0, 0, 0, 0, 0, 0, 0, 0, 0, 0, 0, 0, 0, 0, 0, 0, 0, 0, 0, 0, 0, 0, 0, 0, 0, 0, 0, 0, 0, 0, 0, 0, 0, 0, 0, 0, 0, 0, 0, 0, 0, 0, 0, 0, 0, 0, 0, 0, 0, 0, 0, 0, 0, 0, 0, 0, 0, 0, 0, 0, 0, 0, 0, 0, 0, 0, 0, 0, 0, 0, 0, 0, 0, 0, 0, 0, 0, 0, 0, 0, 0, 0, 0, 0, 0, 0, 0, 0, 0, 0, 0, 0, 0, 0, 0, 0, 0, 0, 0, 0, 0, 0, 0, 0, 0, 0, 0, 0, 0, 0, 0, 0, 0, 0, 0, 0, 0, 0, 0, 0, 0, 0, 0, 0, 0, 0, 0, 0, 0, 0, 0, 0, 0, 0, 0, 0, 0, 0, 0, 0, 0, 0, 0, 0, 0, 0, 0, 0, 0, 0, 0, 0, 0, 0, 0, 0, 0, 0, 0, 0, 0, 0, 0, 0, 0, 0, 0, 0, 0, 0, 0, 0, 0, 0, 0, 0, 0, 0, 0, 0, 0, 0, 0, 0, 0, 0, 0, 0, 0, 0, 0, 0, 0, 0, 0, 0, 0, 0, 0, 0, 0, 0, 0, 0, 0, 0, 0, 0, 0, 0, 0, 0, 0, 0, 0, 0, 0, 0, 0, 0, 0, 0, 0, 0, 0, 0, 0, 0, 0, 0, 0, 0, 0, 0, 0, 0, 0, 0, 0, 0, 0, 0, 0, 0, 0, 0, 0, 0, 0, 0, 0, 0, 0, 0, 0, 0, 0, 0, 0, 0, 0, 0, 0, 0, 0, 0, 0, 0, 0, 0, 0, 0, 0, 0, 0, 0, 0, 0, 0, 0, 0, 0, 0, 0, 0, 0, 0, 0, 0, 0, 0, 0, 0, 0, 0, 0, 0, 0, 0, 0, 0, 0, 0, 0, 0, 0, 0, 0, 0, 0, 0, 0, 0, 0, 0, 0, 0, 0, 0, 0, 0, 0, 0, 0, 0, 0, 0, 0, 0, 0, 0, 0, 0, 0, 0, 0, 0, 0, 0, 0, 0, 0, 0, 0, 0, 0, 0, 0, 0, 0, 0, 0, 0, 0, 0, 0, 0, 0], 'attention_mask': [1, 1, 1, 1, 1, 1, 1, 1, 1, 1, 1, 1, 1, 1, 1, 1, 1, 1, 1, 1, 1, 1, 1, 1, 1, 1, 0, 0, 0, 0, 0, 0, 0, 0, 0, 0, 0, 0, 0, 0, 0, 0, 0, 0, 0, 0, 0, 0, 0, 0, 0, 0, 0, 0, 0, 0, 0, 0, 0, 0, 0, 0, 0, 0, 0, 0, 0, 0, 0, 0, 0, 0, 0, 0, 0, 0, 0, 0, 0, 0, 0, 0, 0, 0, 0, 0, 0, 0, 0, 0, 0, 0, 0, 0, 0, 0, 0, 0, 0, 0, 0, 0, 0, 0, 0, 0, 0, 0, 0, 0, 0, 0, 0, 0, 0, 0, 0, 0, 0, 0, 0, 0, 0, 0, 0, 0, 0, 0, 0, 0, 0, 0, 0, 0, 0, 0, 0, 0, 0, 0, 0, 0, 0, 0, 0, 0, 0, 0, 0, 0, 0, 0, 0, 0, 0, 0, 0, 0, 0, 0, 0, 0, 0, 0, 0, 0, 0, 0, 0, 0, 0, 0, 0, 0, 0, 0, 0, 0, 0, 0, 0, 0, 0, 0, 0, 0, 0, 0, 0, 0, 0, 0, 0, 0, 0, 0, 0, 0, 0, 0, 0, 0, 0, 0, 0, 0, 0, 0, 0, 0, 0, 0, 0, 0, 0, 0, 0, 0, 0, 0, 0, 0, 0, 0, 0, 0, 0, 0, 0, 0, 0, 0, 0, 0, 0, 0, 0, 0, 0, 0, 0, 0, 0, 0, 0, 0, 0, 0, 0, 0, 0, 0, 0, 0, 0, 0, 0, 0, 0, 0, 0, 0, 0, 0, 0, 0, 0, 0, 0, 0, 0, 0, 0, 0, 0, 0, 0, 0, 0, 0, 0, 0, 0, 0, 0, 0, 0, 0, 0, 0, 0, 0, 0, 0, 0, 0, 0, 0, 0, 0, 0, 0, 0, 0, 0, 0, 0, 0, 0, 0, 0, 0, 0, 0, 0, 0, 0, 0, 0, 0, 0, 0, 0, 0, 0, 0, 0, 0, 0, 0, 0, 0, 0, 0, 0, 0, 0, 0, 0, 0, 0, 0, 0, 0, 0, 0, 0, 0, 0, 0, 0, 0, 0, 0, 0, 0, 0, 0, 0, 0, 0, 0, 0, 0, 0, 0, 0, 0, 0, 0, 0, 0, 0, 0, 0, 0, 0, 0, 0, 0, 0, 0, 0, 0, 0, 0, 0, 0, 0, 0, 0, 0, 0, 0, 0, 0, 0, 0, 0, 0, 0, 0, 0, 0, 0, 0, 0, 0, 0, 0, 0, 0, 0, 0, 0, 0, 0, 0, 0, 0, 0, 0, 0, 0, 0, 0, 0, 0, 0, 0, 0, 0, 0, 0, 0, 0, 0, 0, 0, 0, 0, 0, 0, 0, 0, 0, 0, 0, 0, 0, 0, 0, 0, 0, 0, 0, 0, 0, 0, 0, 0, 0, 0, 0, 0, 0, 0, 0, 0, 0, 0, 0, 0, 0, 0, 0, 0, 0, 0, 0, 0, 0, 0, 0, 0, 0, 0, 0, 0, 0, 0, 0, 0, 0, 0, 0, 0, 0, 0, 0, 0, 0, 0, 0, 0, 0, 0, 0, 0, 0, 0, 0]}\n"
     ]
    }
   ],
   "source": [
    "# run example tokenization \n",
    "print(dataset['train']['title_a'][0], '\\n',dataset['train']['title_b'][0], '\\n')\n",
    "tokens = tokenizer.encode_plus(text=dataset['train']['title_a'][0],text_pair = dataset['train']['title_b'][0], truncation=True, padding='max_length')\n",
    "print(tokens)"
   ]
  },
  {
   "cell_type": "code",
   "execution_count": 15,
   "metadata": {},
   "outputs": [
    {
     "name": "stderr",
     "output_type": "stream",
     "text": [
      "100%|██████████| 10697/10697 [06:03<00:00, 29.44it/s]\n"
     ]
    }
   ],
   "source": [
    "# tokenize your inputs \n",
    "input_ids = []\n",
    "token_type_ids = []\n",
    "attention_masks = []\n",
    "label = []\n",
    "for i in tqdm(range(len(dataset['train']))):\n",
    "    token = tokenizer.encode_plus(dataset['train']['title_a'][i],dataset['train']['title_b'][i], truncation=True, padding='max_length')\n",
    "    input_ids.append(np.array(token['input_ids'], dtype=np.int32))\n",
    "    token_type_ids.append(np.array(token['token_type_ids'], dtype=np.int32))\n",
    "    attention_masks.append(np.array(token['attention_mask'], dtype=np.int32))\n",
    "    label.append(dataset['train']['label'][i])"
   ]
  },
  {
   "cell_type": "code",
   "execution_count": 17,
   "metadata": {},
   "outputs": [],
   "source": [
    "# define our split\n",
    "split_ind = int(.95*len(dataset['train']))\n",
    "# reform datasets into two separate dictionaries \n",
    "dataset_dict = {}\n",
    "eval_dataset_dict = {}\n",
    "dataset_dict['input_ids'] = input_ids[:split_ind]\n",
    "dataset_dict['token_type_ids'] = token_type_ids[:split_ind]\n",
    "dataset_dict['attention_mask'] = attention_masks[:split_ind]\n",
    "dataset_dict['label'] = label[:split_ind]\n",
    "\n",
    "eval_dataset_dict['input_ids'] = input_ids[split_ind:]\n",
    "eval_dataset_dict['token_type_ids'] = token_type_ids[split_ind:]\n",
    "eval_dataset_dict['attention_mask'] = attention_masks[split_ind:]\n",
    "eval_dataset_dict['label'] = label[split_ind:]"
   ]
  },
  {
   "cell_type": "markdown",
   "metadata": {},
   "source": [
    "Having issues with max length...\n",
    "\n",
    "ArrowInvalid: Column 1 named attention_mask expected length 697 but got length 1000"
   ]
  },
  {
   "cell_type": "code",
   "execution_count": null,
   "metadata": {
    "scrolled": true
   },
   "outputs": [],
   "source": [
    "# # try to use HF dataset mapper, had issues with implementation\n",
    "# def encode(examples, tokenizer):\n",
    "# #     print(examples['title_a'])\n",
    "#     print(examples['title_a'][0], examples['title_b'][0])\n",
    "#     return tokenizer.encode_plus(str(examples['title_a'][0][:]), str(examples['title_b'][0][:]), truncation=True, padding='max_length', max_length=384) # 'max_length'\n",
    "\n",
    "# dataset = dataset.map(encode, batched=True, fn_kwargs={'tokenizer':tokenizer})\n",
    "# # eval_dataset = eval_dataset.map(encode, batched=True, fn_kwargs={'tokenizer':tokenizer})\n",
    "# columns_to_return = ['input_ids', 'label', 'attention_mask']\n",
    "# dataset.set_format(type='torch', columns=columns_to_return)\n",
    "# eval_dataset.set_format(type='torch', columns=columns_to_return)"
   ]
  },
  {
   "cell_type": "markdown",
   "metadata": {},
   "source": [
    "Create train and eval sets"
   ]
  },
  {
   "cell_type": "code",
   "execution_count": 18,
   "metadata": {},
   "outputs": [
    {
     "data": {
      "text/plain": [
       "Dataset({\n",
       "    features: ['input_ids', 'token_type_ids', 'attention_mask', 'label'],\n",
       "    num_rows: 10162\n",
       "})"
      ]
     },
     "execution_count": 18,
     "metadata": {},
     "output_type": "execute_result"
    }
   ],
   "source": [
    "# create dataset objects from previously created dictionaries \n",
    "train_dataset = Dataset.from_dict(dataset_dict)\n",
    "eval_dataset = Dataset.from_dict(eval_dataset_dict)\n",
    "columns_to_return = ['input_ids', 'label', 'attention_mask']\n",
    "train_dataset.set_format(type='torch', columns=columns_to_return) #, device='cuda')\n",
    "eval_dataset.set_format(type='torch', columns=columns_to_return) #, device='cuda')\n",
    "train_dataset"
   ]
  },
  {
   "cell_type": "code",
   "execution_count": 239,
   "metadata": {},
   "outputs": [],
   "source": [
    "# set evaluation function\n",
    "def compute_metrics(pred):\n",
    "    labels = pred.label_ids\n",
    "    preds = pred.predictions.argmax(-1)\n",
    "    precision, recall, f1, _ = precision_recall_fscore_support(labels, preds, average=\"weighted\")\n",
    "    acc = accuracy_score(labels, preds)\n",
    "    return {\"accuracy\": acc, \"f1\": f1, \"precision\": precision, \"recall\": recall}"
   ]
  },
  {
   "cell_type": "markdown",
   "metadata": {},
   "source": [
    "## Run training locally\n",
    "\n",
    "If you are using a GPU instance you can run training locally."
   ]
  },
  {
   "cell_type": "code",
   "execution_count": 249,
   "metadata": {},
   "outputs": [],
   "source": [
    "# run training locally\n",
    "batch_size = 8\n",
    "metric_name = \"accuracy\"\n",
    "args = TrainingArguments(\n",
    "    \"test-glue\",\n",
    "    evaluation_strategy = \"epoch\",\n",
    "    learning_rate=2e-5,\n",
    "    per_device_train_batch_size=batch_size,\n",
    "    per_device_eval_batch_size=batch_size,\n",
    "    num_train_epochs=2,\n",
    "    weight_decay=0.01,\n",
    "    load_best_model_at_end=True,\n",
    "    metric_for_best_model=metric_name,\n",
    ")\n",
    "\n",
    "# it automatically tries to create tensors for you\n",
    "# validation_key = \"validation_mismatched\" if task == \"mnli-mm\" else \"validation_matched\" if task == \"mnli\" else \"validation\"\n",
    "trainer = Trainer(\n",
    "    model,\n",
    "    args,\n",
    "    train_dataset=train_dataset,\n",
    "    eval_dataset=eval_dataset,\n",
    "#     tokenizer=tokenizer,\n",
    "    compute_metrics=compute_metrics\n",
    ")"
   ]
  },
  {
   "cell_type": "markdown",
   "metadata": {},
   "source": [
    "Run training:"
   ]
  },
  {
   "cell_type": "code",
   "execution_count": null,
   "metadata": {},
   "outputs": [],
   "source": [
    "trainer.train()"
   ]
  },
  {
   "cell_type": "code",
   "execution_count": 158,
   "metadata": {},
   "outputs": [
    {
     "data": {
      "text/html": [
       "\n",
       "    <div>\n",
       "      \n",
       "      <progress value='63' max='63' style='width:300px; height:20px; vertical-align: middle;'></progress>\n",
       "      [63/63 00:11]\n",
       "    </div>\n",
       "    "
      ],
      "text/plain": [
       "<IPython.core.display.HTML object>"
      ]
     },
     "metadata": {},
     "output_type": "display_data"
    },
    {
     "data": {
      "text/plain": [
       "{'eval_loss': 0.695730447769165,\n",
       " 'eval_accuracy': 0.702,\n",
       " 'eval_f1': 0.7019361060880048,\n",
       " 'eval_precision': 0.7018778391154427,\n",
       " 'eval_recall': 0.702,\n",
       " 'eval_runtime': 12.0364,\n",
       " 'eval_samples_per_second': 41.541,\n",
       " 'epoch': 3.0,\n",
       " 'eval_mem_cpu_alloc_delta': 622592,\n",
       " 'eval_mem_gpu_alloc_delta': 0,\n",
       " 'eval_mem_cpu_peaked_delta': 0,\n",
       " 'eval_mem_gpu_peaked_delta': 289534464}"
      ]
     },
     "execution_count": 158,
     "metadata": {},
     "output_type": "execute_result"
    }
   ],
   "source": [
    "# all samples results\n",
    "trainer.evaluate(eval_dataset=eval_dataset)"
   ]
  },
  {
   "cell_type": "code",
   "execution_count": 180,
   "metadata": {},
   "outputs": [
    {
     "data": {
      "text/html": [
       "\n",
       "    <div>\n",
       "      \n",
       "      <progress value='63' max='63' style='width:300px; height:20px; vertical-align: middle;'></progress>\n",
       "      [63/63 00:12]\n",
       "    </div>\n",
       "    "
      ],
      "text/plain": [
       "<IPython.core.display.HTML object>"
      ]
     },
     "metadata": {},
     "output_type": "display_data"
    },
    {
     "data": {
      "text/plain": [
       "{'eval_loss': 0.5558859705924988,\n",
       " 'eval_accuracy': 0.786,\n",
       " 'eval_f1': 0.7870509308975953,\n",
       " 'eval_precision': 0.7949385560675882,\n",
       " 'eval_recall': 0.786,\n",
       " 'eval_runtime': 12.6321,\n",
       " 'eval_samples_per_second': 39.582,\n",
       " 'epoch': 3.0,\n",
       " 'eval_mem_cpu_alloc_delta': -20480,\n",
       " 'eval_mem_gpu_alloc_delta': 0,\n",
       " 'eval_mem_cpu_peaked_delta': 20480,\n",
       " 'eval_mem_gpu_peaked_delta': 289534464}"
      ]
     },
     "execution_count": 180,
     "metadata": {},
     "output_type": "execute_result"
    }
   ],
   "source": [
    "# only significant winner dataset\n",
    "trainer.evaluate(eval_dataset=eval_dataset)"
   ]
  },
  {
   "cell_type": "markdown",
   "metadata": {},
   "source": [
    "All samples have 70% accuracy in validation\n",
    "Only significant winner samples have 78% accuracy in validation \n",
    "\n",
    "Evaluate on the same holdout set. Can try reducing the learning rate. "
   ]
  },
  {
   "cell_type": "markdown",
   "metadata": {},
   "source": [
    "## Run in SageMaker Training\n",
    "\n",
    "To run the same thing in sagemaker training we can use the following code. We first define our metrics to be collected, then define and launch our estimator. "
   ]
  },
  {
   "cell_type": "code",
   "execution_count": null,
   "metadata": {},
   "outputs": [],
   "source": [
    "# define metrics to track\n",
    "metric_definitions=[{\n",
    "        \"Name\": \"loss\",\n",
    "        \"Regex\": \".*loss:\\s([0-9\\\\.]+)\\s*\"\n",
    "    },\n",
    "    {\n",
    "        \"Name\": \"eval_loss\",\n",
    "        \"Regex\": \".*eval_loss:\\s([0-9\\\\.]+)\\s*\"\n",
    "    },\n",
    "    {\n",
    "        \"Name\": \"eval_accuracy\",\n",
    "        \"Regex\": \".*eval_accuracy:\\s([0-9\\\\.]+)\\s*\"\n",
    "    },\n",
    "    {\n",
    "        \"Name\": \"eval_f1\",\n",
    "        \"Regex\": \".*eval_f1:\\s([0-9\\\\.]+)\\s*\"\n",
    "    },\n",
    "    {\n",
    "        \"Name\": \"eval_precision\",\n",
    "        \"Regex\": \".*eval_precision:\\s([0-9\\\\.]+)\\s*\"\n",
    "    }, \n",
    "    {\n",
    "        \"Name\": \"learning_rate\",  \n",
    "        \"Regex\": \".*learning_rate:\\s([0-9\\\\.]+)\\s*\"\n",
    "    },\n",
    "    {\n",
    "        \"Name\": \"eval_recall\",  \n",
    "        \"Regex\": \".*eval_recall:\\s([0-9\\\\.]+)\\s*\"\n",
    "    }\n",
    "]"
   ]
  },
  {
   "cell_type": "code",
   "execution_count": 262,
   "metadata": {},
   "outputs": [],
   "source": [
    "hyperparameters = {\n",
    "\t'model_name':'squeezebert/squeezebert-mnli-headless',\n",
    "\t'output_dir':'/opt/ml/model',\n",
    "    'num_labels':2,\n",
    "    'epochs':2\n",
    "    \n",
    "\t# add your remaining hyperparameters\n",
    "\t# more info here https://github.com/huggingface/transformers/tree/v4.4.2/examples/text-classification\n",
    "}\n",
    "\n",
    "# git configuration to download our fine-tuning script\n",
    "git_config = {'repo': 'https://github.com/huggingface/transformers.git','branch': 'v4.4.2'}\n",
    "\n",
    "# creates Hugging Face estimator\n",
    "huggingface_estimator = HuggingFace(\n",
    "\tentry_point='train.py',\n",
    "\tsource_dir='container_training', #'./examples/text-classification',\n",
    "\tinstance_type='ml.p3.2xlarge',\n",
    "\tinstance_count=1,\n",
    "\trole=role,\n",
    "# \tgit_config=git_config,\n",
    "\ttransformers_version='4.4.2',\n",
    "\tpytorch_version='1.6.0',\n",
    "\tpy_version='py36',\n",
    "\thyperparameters = hyperparameters,\n",
    "    metric_definitions=metric_definitions\n",
    ")\n",
    "\n",
    "# starting the train job\n",
    "job_name = 'hf-headline-class-test'\n",
    "huggingface_estimator.fit(inputs = {'train':f's3://{bucket}/headlines/formatted_headlines.csv'}, \n",
    "                          wait=False,\n",
    "                         job_name = job_name)"
   ]
  },
  {
   "cell_type": "code",
   "execution_count": null,
   "metadata": {},
   "outputs": [],
   "source": [
    "# for hyperparameter tuning\n",
    "trainer.hyperparameter_search(\n",
    "    direction=\"maximize\", \n",
    "    backend=\"ray\", \n",
    "    n_samples=10, # number of trials\n",
    "    # n_jobs=2  # number of parallel jobs, if multiple GPUs\n",
    ")"
   ]
  },
  {
   "cell_type": "code",
   "execution_count": null,
   "metadata": {},
   "outputs": [],
   "source": [
    "# models\n",
    "# Michau/t5-base-en-generate-headline\n",
    "# mrm8488/t5-base-finetuned-summarize-news\n",
    "\n",
    "# ktrapeznikov/gpt2-medium-topic-news\n",
    "# mrm8488/bert-mini-finetuned-age_news-classification\n",
    "\n",
    "# QianWeiTech/GPT2-News\n"
   ]
  },
  {
   "cell_type": "code",
   "execution_count": null,
   "metadata": {},
   "outputs": [],
   "source": []
  }
 ],
 "metadata": {
  "instance_type": "ml.g4dn.xlarge",
  "kernelspec": {
   "display_name": "Python 3 (ipykernel)",
   "language": "python",
   "name": "python3"
  },
  "language_info": {
   "codemirror_mode": {
    "name": "ipython",
    "version": 3
   },
   "file_extension": ".py",
   "mimetype": "text/x-python",
   "name": "python",
   "nbconvert_exporter": "python",
   "pygments_lexer": "ipython3",
   "version": "3.7.4"
  }
 },
 "nbformat": 4,
 "nbformat_minor": 4
}
